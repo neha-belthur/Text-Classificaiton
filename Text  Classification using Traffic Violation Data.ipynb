{
 "cells": [
  {
   "cell_type": "markdown",
   "metadata": {},
   "source": [
    "# Text Classification- Traffic Violation Data"
   ]
  },
  {
   "cell_type": "markdown",
   "metadata": {},
   "source": [
    "In this notebook, I have built a classifier to classify traffic violations into 3 main categories- \"Warning\", \"Citation\", \"ESERO\"."
   ]
  },
  {
   "cell_type": "code",
   "execution_count": 1,
   "metadata": {},
   "outputs": [],
   "source": [
    "import pandas as pd\n",
    "import matplotlib.pyplot as plt\n",
    "%matplotlib inline\n",
    "import os\n",
    "import numpy as np\n",
    "\n",
    "\n",
    "import nltk\n",
    "import string\n",
    "from nltk.corpus import stopwords\n",
    "from nltk.stem.wordnet import WordNetLemmatizer\n",
    "lemma = WordNetLemmatizer()"
   ]
  },
  {
   "cell_type": "code",
   "execution_count": 2,
   "metadata": {},
   "outputs": [],
   "source": [
    "directory=os.getcwd()\n",
    "file=directory+\"/md_traffic_10K.csv\""
   ]
  },
  {
   "cell_type": "code",
   "execution_count": 3,
   "metadata": {},
   "outputs": [],
   "source": [
    "data=pd.read_table(file, skiprows=1, header=None, sep=',', names=['description', 'violation'])"
   ]
  },
  {
   "cell_type": "code",
   "execution_count": 4,
   "metadata": {},
   "outputs": [
    {
     "data": {
      "text/html": [
       "<div>\n",
       "<style scoped>\n",
       "    .dataframe tbody tr th:only-of-type {\n",
       "        vertical-align: middle;\n",
       "    }\n",
       "\n",
       "    .dataframe tbody tr th {\n",
       "        vertical-align: top;\n",
       "    }\n",
       "\n",
       "    .dataframe thead th {\n",
       "        text-align: right;\n",
       "    }\n",
       "</style>\n",
       "<table border=\"1\" class=\"dataframe\">\n",
       "  <thead>\n",
       "    <tr style=\"text-align: right;\">\n",
       "      <th></th>\n",
       "      <th>description</th>\n",
       "      <th>violation</th>\n",
       "    </tr>\n",
       "  </thead>\n",
       "  <tbody>\n",
       "    <tr>\n",
       "      <th>0</th>\n",
       "      <td>DRIVER FAILURE TO STOP AT STEADY CIRCULAR RED ...</td>\n",
       "      <td>Citation</td>\n",
       "    </tr>\n",
       "    <tr>\n",
       "      <th>1</th>\n",
       "      <td>HEADLIGHTS (*)</td>\n",
       "      <td>ESERO</td>\n",
       "    </tr>\n",
       "    <tr>\n",
       "      <th>2</th>\n",
       "      <td>FAILURE TO DISPLAY TWO LIGHTED FRONT LAMPS WHE...</td>\n",
       "      <td>Warning</td>\n",
       "    </tr>\n",
       "    <tr>\n",
       "      <th>3</th>\n",
       "      <td>DRIVER FAILURE TO STOP AT STOP SIGN LINE</td>\n",
       "      <td>Warning</td>\n",
       "    </tr>\n",
       "    <tr>\n",
       "      <th>4</th>\n",
       "      <td>STOP LIGHTS (*)</td>\n",
       "      <td>ESERO</td>\n",
       "    </tr>\n",
       "  </tbody>\n",
       "</table>\n",
       "</div>"
      ],
      "text/plain": [
       "                                         description violation\n",
       "0  DRIVER FAILURE TO STOP AT STEADY CIRCULAR RED ...  Citation\n",
       "1                                     HEADLIGHTS (*)     ESERO\n",
       "2  FAILURE TO DISPLAY TWO LIGHTED FRONT LAMPS WHE...   Warning\n",
       "3           DRIVER FAILURE TO STOP AT STOP SIGN LINE   Warning\n",
       "4                                    STOP LIGHTS (*)     ESERO"
      ]
     },
     "execution_count": 4,
     "metadata": {},
     "output_type": "execute_result"
    }
   ],
   "source": [
    "data.head()"
   ]
  },
  {
   "cell_type": "markdown",
   "metadata": {},
   "source": [
    "# Explore the data to understand the different types of violations and it's properties"
   ]
  },
  {
   "cell_type": "code",
   "execution_count": 5,
   "metadata": {},
   "outputs": [
    {
     "data": {
      "text/plain": [
       "Warning     0.479348\n",
       "Citation    0.453745\n",
       "ESERO       0.066907\n",
       "Name: violation, dtype: float64"
      ]
     },
     "execution_count": 5,
     "metadata": {},
     "output_type": "execute_result"
    }
   ],
   "source": [
    "#identify the types and percentage of violations\n",
    "data['violation'].value_counts(normalize=True)"
   ]
  },
  {
   "cell_type": "code",
   "execution_count": 6,
   "metadata": {},
   "outputs": [
    {
     "data": {
      "text/plain": [
       "2       FAILURE TO DISPLAY TWO LIGHTED FRONT LAMPS WHE...\n",
       "3                DRIVER FAILURE TO STOP AT STOP SIGN LINE\n",
       "12      FAILURE TO DISPLAY REGISTRATION CARD UPON DEMA...\n",
       "13                                  STOPLIGHT INOPERATIVE\n",
       "14      FAILURE TO PROPERLY EQUIP & LOCATE HEADLAMPS O...\n",
       "                              ...                        \n",
       "9984    FAILURE OF DR. TO MAKE LANE CHANGE TO AVAIL. L...\n",
       "9992    FAILURE TO ATTACH VEHICLE REGISTRATION PLATES ...\n",
       "9995           EXCEEDING THE POSTED SPEED LIMIT OF 40 MPH\n",
       "9996    FAILURE TO DISPLAY TWO LIGHTED FRONT LAMPS WHE...\n",
       "9998    DISPLAYING EXPIRED REGISTRATION PLATE ISSUED B...\n",
       "Name: description, Length: 4793, dtype: object"
      ]
     },
     "execution_count": 6,
     "metadata": {},
     "output_type": "execute_result"
    }
   ],
   "source": [
    "data['description'][data['violation']=='Warning']"
   ]
  },
  {
   "cell_type": "code",
   "execution_count": 7,
   "metadata": {},
   "outputs": [
    {
     "data": {
      "text/plain": [
       "0       DRIVER FAILURE TO STOP AT STEADY CIRCULAR RED ...\n",
       "5       DRIVING  MOTOR VEHICLE ON HIGHWAY WITHOUT REQU...\n",
       "6       DRIVING VEHICLE ON HIGHWAY WITH AN EXPIRED LIC...\n",
       "7       FAILURE OF INDIVIDUAL DRIVING ON HIGHWAY TO DI...\n",
       "8       FAILURE TO DISPLAY REGISTRATION CARD UPON DEMA...\n",
       "                              ...                        \n",
       "9988                    DRIVING WHILE IMPAIRED BY ALCOHOL\n",
       "9989    FAILURE TO CONTROL VEHICLE SPEED ON HIGHWAY TO...\n",
       "9990    DRIVER USING HANDS TO USE HANDHELD TELEPHONE W...\n",
       "9993    OPERATING VEHICLE ON HIGHWAY WITH UNAUTHORIZED...\n",
       "9994    OPERATING VEHICLE ON HIGHWAY WITH UNAUTHORIZED...\n",
       "Name: description, Length: 4537, dtype: object"
      ]
     },
     "execution_count": 7,
     "metadata": {},
     "output_type": "execute_result"
    }
   ],
   "source": [
    "data['description'][data['violation']=='Citation']"
   ]
  },
  {
   "cell_type": "code",
   "execution_count": 8,
   "metadata": {},
   "outputs": [
    {
     "data": {
      "text/plain": [
       "1        HEADLIGHTS (*)\n",
       "4       STOP LIGHTS (*)\n",
       "54       TAILLIGHTS (*)\n",
       "55       TAG LIGHTS (*)\n",
       "56       HEADLIGHTS (*)\n",
       "             ...       \n",
       "9903        WINDOW TINT\n",
       "9951    STOP LIGHTS (*)\n",
       "9982    STOP LIGHTS (*)\n",
       "9991        WINDOW TINT\n",
       "9997     HEADLIGHTS (*)\n",
       "Name: description, Length: 669, dtype: object"
      ]
     },
     "execution_count": 8,
     "metadata": {},
     "output_type": "execute_result"
    }
   ],
   "source": [
    "data['description'][data['violation']=='ESERO']"
   ]
  },
  {
   "cell_type": "code",
   "execution_count": 9,
   "metadata": {},
   "outputs": [],
   "source": [
    "#analyze violations based on character size of the text\n",
    "data['Length']=data['description'].apply(len)"
   ]
  },
  {
   "cell_type": "code",
   "execution_count": 10,
   "metadata": {},
   "outputs": [
    {
     "data": {
      "text/html": [
       "<div>\n",
       "<style scoped>\n",
       "    .dataframe tbody tr th:only-of-type {\n",
       "        vertical-align: middle;\n",
       "    }\n",
       "\n",
       "    .dataframe tbody tr th {\n",
       "        vertical-align: top;\n",
       "    }\n",
       "\n",
       "    .dataframe thead th {\n",
       "        text-align: right;\n",
       "    }\n",
       "</style>\n",
       "<table border=\"1\" class=\"dataframe\">\n",
       "  <thead>\n",
       "    <tr style=\"text-align: right;\">\n",
       "      <th></th>\n",
       "      <th>description</th>\n",
       "      <th>violation</th>\n",
       "      <th>Length</th>\n",
       "    </tr>\n",
       "  </thead>\n",
       "  <tbody>\n",
       "    <tr>\n",
       "      <th>count</th>\n",
       "      <td>9999</td>\n",
       "      <td>9999</td>\n",
       "      <td>9999.000000</td>\n",
       "    </tr>\n",
       "    <tr>\n",
       "      <th>unique</th>\n",
       "      <td>751</td>\n",
       "      <td>3</td>\n",
       "      <td>NaN</td>\n",
       "    </tr>\n",
       "    <tr>\n",
       "      <th>top</th>\n",
       "      <td>DRIVER FAILURE TO OBEY PROPERLY PLACED TRAFFIC...</td>\n",
       "      <td>Warning</td>\n",
       "      <td>NaN</td>\n",
       "    </tr>\n",
       "    <tr>\n",
       "      <th>freq</th>\n",
       "      <td>702</td>\n",
       "      <td>4793</td>\n",
       "      <td>NaN</td>\n",
       "    </tr>\n",
       "    <tr>\n",
       "      <th>mean</th>\n",
       "      <td>NaN</td>\n",
       "      <td>NaN</td>\n",
       "      <td>59.869987</td>\n",
       "    </tr>\n",
       "    <tr>\n",
       "      <th>std</th>\n",
       "      <td>NaN</td>\n",
       "      <td>NaN</td>\n",
       "      <td>22.101529</td>\n",
       "    </tr>\n",
       "    <tr>\n",
       "      <th>min</th>\n",
       "      <td>NaN</td>\n",
       "      <td>NaN</td>\n",
       "      <td>5.000000</td>\n",
       "    </tr>\n",
       "    <tr>\n",
       "      <th>25%</th>\n",
       "      <td>NaN</td>\n",
       "      <td>NaN</td>\n",
       "      <td>46.000000</td>\n",
       "    </tr>\n",
       "    <tr>\n",
       "      <th>50%</th>\n",
       "      <td>NaN</td>\n",
       "      <td>NaN</td>\n",
       "      <td>59.000000</td>\n",
       "    </tr>\n",
       "    <tr>\n",
       "      <th>75%</th>\n",
       "      <td>NaN</td>\n",
       "      <td>NaN</td>\n",
       "      <td>76.000000</td>\n",
       "    </tr>\n",
       "    <tr>\n",
       "      <th>max</th>\n",
       "      <td>NaN</td>\n",
       "      <td>NaN</td>\n",
       "      <td>100.000000</td>\n",
       "    </tr>\n",
       "  </tbody>\n",
       "</table>\n",
       "</div>"
      ],
      "text/plain": [
       "                                              description violation  \\\n",
       "count                                                9999      9999   \n",
       "unique                                                751         3   \n",
       "top     DRIVER FAILURE TO OBEY PROPERLY PLACED TRAFFIC...   Warning   \n",
       "freq                                                  702      4793   \n",
       "mean                                                  NaN       NaN   \n",
       "std                                                   NaN       NaN   \n",
       "min                                                   NaN       NaN   \n",
       "25%                                                   NaN       NaN   \n",
       "50%                                                   NaN       NaN   \n",
       "75%                                                   NaN       NaN   \n",
       "max                                                   NaN       NaN   \n",
       "\n",
       "             Length  \n",
       "count   9999.000000  \n",
       "unique          NaN  \n",
       "top             NaN  \n",
       "freq            NaN  \n",
       "mean      59.869987  \n",
       "std       22.101529  \n",
       "min        5.000000  \n",
       "25%       46.000000  \n",
       "50%       59.000000  \n",
       "75%       76.000000  \n",
       "max      100.000000  "
      ]
     },
     "execution_count": 10,
     "metadata": {},
     "output_type": "execute_result"
    }
   ],
   "source": [
    "data.describe(include=\"all\")"
   ]
  },
  {
   "cell_type": "code",
   "execution_count": 11,
   "metadata": {},
   "outputs": [
    {
     "data": {
      "text/plain": [
       "array([[<matplotlib.axes._subplots.AxesSubplot object at 0x1a27f9c450>,\n",
       "        <matplotlib.axes._subplots.AxesSubplot object at 0x1a28749b50>],\n",
       "       [<matplotlib.axes._subplots.AxesSubplot object at 0x1a2878bed0>,\n",
       "        <matplotlib.axes._subplots.AxesSubplot object at 0x1a287bfb90>]],\n",
       "      dtype=object)"
      ]
     },
     "execution_count": 11,
     "metadata": {},
     "output_type": "execute_result"
    },
    {
     "data": {
      "image/png": "[encoded data removed]",
      "text/plain": [
       "<Figure size 1080x864 with 4 Axes>"
      ]
     },
     "metadata": {
      "needs_background": "light"
     },
     "output_type": "display_data"
    }
   ],
   "source": [
    "#histogram of the different kinds of violations and the associate character size\n",
    "data.hist(column=\"Length\",by=\"violation\",figsize=(15,12))"
   ]
  },
  {
   "cell_type": "markdown",
   "metadata": {},
   "source": [
    "Length of characters vary based on the type of violation:\n",
    "    1. Citation has a mean length of around 60\n",
    "    2. ESERO has 10-15 characters\n",
    "    3. Warning has varied length of characters"
   ]
  },
  {
   "cell_type": "markdown",
   "metadata": {},
   "source": [
    "# Data preprocessing"
   ]
  },
  {
   "cell_type": "markdown",
   "metadata": {},
   "source": [
    "__Clean the text data__\n",
    "\n",
    "This function takes in the text and removes punctuations, stop words and lemmatizes the words"
   ]
  },
  {
   "cell_type": "code",
   "execution_count": 12,
   "metadata": {},
   "outputs": [],
   "source": [
    "#function to clean the text data\n",
    "def text_clean(text):\n",
    "    \"\"\" Clean the text data.\n",
    "\n",
    "    Args:\n",
    "        text (string): description\n",
    "    \"\"\" \n",
    "    no_punc_text=[i for i in text if i not in string.punctuation] #remove punctuations\n",
    "    no_punc_text=''.join(no_punc_text)\n",
    "    no_stop_text=[i for i in no_punc_text.split() if i.lower() not in stopwords.words('english')] #remove stopwords\n",
    "    #no_stop_text=' '.join(no_punc_text)\n",
    "    normalized =  ' '.join(lemma.lemmatize(word) for word in no_stop_text)#lemmatize\n",
    "    return normalized.split()"
   ]
  },
  {
   "cell_type": "markdown",
   "metadata": {},
   "source": [
    "__Create pipeline to clean the data, calculate TF-IDF scores, fit a classification model__"
   ]
  },
  {
   "cell_type": "code",
   "execution_count": 13,
   "metadata": {},
   "outputs": [],
   "source": [
    "#pipeline to obtain a TF-IDF matrix and fit classifiers\n",
    "from sklearn.feature_extraction.text import CountVectorizer\n",
    "from sklearn.feature_extraction.text import TfidfTransformer\n",
    "from sklearn.naive_bayes import MultinomialNB\n",
    "from sklearn.pipeline import Pipeline\n",
    "from sklearn.linear_model import SGDClassifier\n",
    "\n",
    "#Multinomial Naive Bayes\n",
    "text_clf_nb = Pipeline([('vect', CountVectorizer(tokenizer=text_clean)),('tfidf', TfidfTransformer()),('clf', MultinomialNB())])\n",
    "\n",
    "#SVD\n",
    "text_clf_svm = Pipeline([('vect', CountVectorizer(tokenizer=text_clean)),('tfidf', TfidfTransformer()),('clf', SGDClassifier()),])"
   ]
  },
  {
   "cell_type": "markdown",
   "metadata": {},
   "source": [
    "__Further processing of the data to fit the models__"
   ]
  },
  {
   "cell_type": "code",
   "execution_count": 14,
   "metadata": {},
   "outputs": [],
   "source": [
    "#split data into train and test\n",
    "from sklearn.model_selection import train_test_split\n",
    "\n",
    "#replace violations to numeric values and create X and Y sets\n",
    "data['violation'].replace({'Warning':\"1\",\"Citation\":\"2\",\"ESERO\":\"3\"},inplace=True)\n",
    "X=data['description']\n",
    "y=data['violation']\n",
    "\n",
    "X_train, X_test, y_train, y_test = train_test_split(X, y, random_state=1)\n"
   ]
  },
  {
   "cell_type": "code",
   "execution_count": 15,
   "metadata": {},
   "outputs": [
    {
     "data": {
      "text/plain": [
       "1    0.479264\n",
       "2    0.452327\n",
       "3    0.068409\n",
       "Name: violation, dtype: float64"
      ]
     },
     "execution_count": 15,
     "metadata": {},
     "output_type": "execute_result"
    }
   ],
   "source": [
    "y_train.value_counts(normalize=True)"
   ]
  },
  {
   "cell_type": "code",
   "execution_count": 16,
   "metadata": {},
   "outputs": [
    {
     "data": {
      "text/plain": [
       "1    0.4796\n",
       "2    0.4580\n",
       "3    0.0624\n",
       "Name: violation, dtype: float64"
      ]
     },
     "execution_count": 16,
     "metadata": {},
     "output_type": "execute_result"
    }
   ],
   "source": [
    "y_test.value_counts(normalize=True)"
   ]
  },
  {
   "cell_type": "code",
   "execution_count": 17,
   "metadata": {},
   "outputs": [
    {
     "name": "stdout",
     "output_type": "stream",
     "text": [
      "Length of test data: 2500\n",
      "Length of train data: 7499\n"
     ]
    }
   ],
   "source": [
    "print(\"Length of test data:\",len(X_test))\n",
    "print(\"Length of train data:\",len(X_train))"
   ]
  },
  {
   "cell_type": "markdown",
   "metadata": {},
   "source": [
    "__Grid Search to search for the best parameters__"
   ]
  },
  {
   "cell_type": "code",
   "execution_count": 18,
   "metadata": {},
   "outputs": [],
   "source": [
    "#grid search to obtain best parameters for the model\n",
    "from sklearn.model_selection import GridSearchCV"
   ]
  },
  {
   "cell_type": "markdown",
   "metadata": {},
   "source": [
    "1. Naive Bayes- Find the best parameters for count vectorizer, tfidf"
   ]
  },
  {
   "cell_type": "code",
   "execution_count": 21,
   "metadata": {},
   "outputs": [],
   "source": [
    "parameters = {'vect__ngram_range': [(1, 1), (1, 2)],'tfidf__use_idf': (True, False)}\n",
    "\n",
    "#fit model for Naive Bayes classifier\n",
    "gs_clf_nb = GridSearchCV(text_clf_nb, parameters, n_jobs=-1)\n",
    "gs_clf_nb = gs_clf_nb.fit(X_train, y_train)"
   ]
  },
  {
   "cell_type": "code",
   "execution_count": 22,
   "metadata": {},
   "outputs": [
    {
     "name": "stdout",
     "output_type": "stream",
     "text": [
      "Naive Bayes: Best Score: 0.7670361574382922\n",
      "Naive Bayes: Best Params: {'tfidf__use_idf': True, 'vect__ngram_range': (1, 1)}\n"
     ]
    }
   ],
   "source": [
    "#best score and params for Naive Bayes\n",
    "print(\"Naive Bayes: Best Score:\",gs_clf_nb.best_score_)\n",
    "print(\"Naive Bayes: Best Params:\", gs_clf_nb.best_params_)"
   ]
  },
  {
   "cell_type": "markdown",
   "metadata": {},
   "source": [
    "2. SVD- Find the best parameters for count vectorizer, tfidf"
   ]
  },
  {
   "cell_type": "code",
   "execution_count": 23,
   "metadata": {},
   "outputs": [],
   "source": [
    "parameters = {'vect__ngram_range': [(1, 1), (1, 2)],'tfidf__use_idf': (True, False)}\n",
    "\n",
    "#fit model for SVM classifier\n",
    "gs_clf_svm = GridSearchCV(text_clf_svm, parameters, n_jobs=-1)\n",
    "gs_clf_svm = gs_clf_svm.fit(X_train, y_train)"
   ]
  },
  {
   "cell_type": "code",
   "execution_count": 24,
   "metadata": {},
   "outputs": [
    {
     "name": "stdout",
     "output_type": "stream",
     "text": [
      "SVM: Best Score: 0.7773038025350234\n",
      "SVM: Best Params: {'tfidf__use_idf': True, 'vect__ngram_range': (1, 2)}\n"
     ]
    }
   ],
   "source": [
    "#best score and params for SVM\n",
    "print(\"SVM: Best Score:\",gs_clf_svm.best_score_)\n",
    "print(\"SVM: Best Params:\", gs_clf_svm.best_params_)"
   ]
  },
  {
   "cell_type": "markdown",
   "metadata": {},
   "source": [
    "# __Validate models against test data__"
   ]
  },
  {
   "cell_type": "code",
   "execution_count": 25,
   "metadata": {},
   "outputs": [],
   "source": [
    "#validate against test data\n",
    "\n",
    "from sklearn import metrics\n",
    "from sklearn.metrics import classification_report, confusion_matrix, accuracy_score, roc_curve"
   ]
  },
  {
   "cell_type": "code",
   "execution_count": null,
   "metadata": {},
   "outputs": [],
   "source": [
    "\"\"\"\n",
    "Don't run this function. sklearn v 0.22 onwards has an in-built function to plot confusion matrix\n",
    "\n",
    "#function to plot the heatmap of the confusion matrix\n",
    "def func_plot_confusion_matrix(cm, normalize=False):\n",
    "    \"\"\" Plot the confusion matrix as a heatmap.\n",
    "\n",
    "    Args:\n",
    "        cm (numpy ndarray): confusion matrix\n",
    "        normalize (bool): whether to plot the normalized confusion matrix\n",
    "        \n",
    "    \"\"\"  \n",
    "    # Plot non-normalized confusion matrix\n",
    "    plt.figure()\n",
    "    \n",
    "    classes = ['Warning', 'Citation','ESERO']\n",
    "    \n",
    "    _plot_confusion_matrix(cm,classes=classes,\n",
    "                          title='Confusion matrix, without normalization')\n",
    "    \n",
    "    if normalize:\n",
    "        # Plot normalized confusion matrix\n",
    "        plt.figure()\n",
    "        _plot_confusion_matrix(cm, normalize=True,classes=classes,\n",
    "                              title='Normalized confusion matrix')\n",
    "\n",
    "    plt.show()\n",
    "\n",
    "def _plot_confusion_matrix(cm, classes,\n",
    "                          normalize=False,\n",
    "                          title='Confusion matrix',\n",
    "                          cmap=plt.cm.Blues):\n",
    "    import itertools\n",
    "    if normalize:\n",
    "        cm = cm.astype('float') / cm.sum(axis=1)[:, np.newaxis]\n",
    "        print(\"Normalized confusion matrix\")\n",
    "    else:\n",
    "        print('Confusion matrix, without normalization')\n",
    "\n",
    "    print(cm)\n",
    "\n",
    "    plt.imshow(cm, interpolation='nearest', cmap=cmap)\n",
    "    plt.title(title)\n",
    "    plt.colorbar()\n",
    "    tick_marks = np.arange(len(classes))\n",
    "    plt.xticks(tick_marks, classes, rotation=45)\n",
    "    plt.yticks(tick_marks, classes)\n",
    "\n",
    "    fmt = '.3f' if normalize else 'd'\n",
    "    thresh = cm.max() / 2.\n",
    "    for i, j in itertools.product(range(cm.shape[0]), range(cm.shape[1])):\n",
    "        plt.text(j, i, format(cm[i, j], fmt),\n",
    "                 horizontalalignment=\"center\", \n",
    "                 color=\"white\" if cm[i, j] > thresh else \"black\")\n",
    "\n",
    "    plt.ylabel('True')\n",
    "    plt.xlabel('Predicted')\n",
    "    plt.tight_layout()\n",
    "    \n",
    "\"\"\""
   ]
  },
  {
   "cell_type": "markdown",
   "metadata": {},
   "source": [
    "__Validate Naive Bayes__"
   ]
  },
  {
   "cell_type": "code",
   "execution_count": 26,
   "metadata": {},
   "outputs": [],
   "source": [
    "#NB validation\n",
    "\n",
    "#fit best Naive Bayes model\n",
    "text_clf_nb_best = Pipeline([('vect', CountVectorizer(tokenizer=text_clean,ngram_range=(1, 1))),('tfidf', TfidfTransformer()),('clf', MultinomialNB())])\n",
    "text_clf_nb_best=text_clf_nb_best.fit(X_train,y_train)"
   ]
  },
  {
   "cell_type": "code",
   "execution_count": 27,
   "metadata": {},
   "outputs": [],
   "source": [
    "#predict classes on test set\n",
    "pred_nb = text_clf_nb_best.predict(X_test)"
   ]
  },
  {
   "cell_type": "code",
   "execution_count": 28,
   "metadata": {},
   "outputs": [],
   "source": [
    "#calculate predicted probabilities\n",
    "pred_nb_prob=text_clf_nb_best.predict_proba(X_test)"
   ]
  },
  {
   "cell_type": "code",
   "execution_count": 29,
   "metadata": {},
   "outputs": [
    {
     "name": "stdout",
     "output_type": "stream",
     "text": [
      "Classification Report for the Naive Bayes Classifier\n",
      "              precision    recall  f1-score   support\n",
      "\n",
      "           1       0.71      0.80      0.75      1199\n",
      "           2       0.76      0.66      0.71      1145\n",
      "           3       0.96      0.94      0.95       156\n",
      "\n",
      "    accuracy                           0.75      2500\n",
      "   macro avg       0.81      0.80      0.80      2500\n",
      "weighted avg       0.75      0.75      0.75      2500\n",
      "\n"
     ]
    }
   ],
   "source": [
    "print(\"Classification Report for the Naive Bayes Classifier\")\n",
    "print(classification_report(y_test,pred_nb))"
   ]
  },
  {
   "cell_type": "code",
   "execution_count": 30,
   "metadata": {},
   "outputs": [
    {
     "name": "stdout",
     "output_type": "stream",
     "text": [
      "Confusion Matrix for the Naive Bayes Classifier\n"
     ]
    },
    {
     "data": {
      "text/plain": [
       "array([[962, 234,   3],\n",
       "       [382, 760,   3],\n",
       "       [ 10,   0, 146]])"
      ]
     },
     "execution_count": 30,
     "metadata": {},
     "output_type": "execute_result"
    }
   ],
   "source": [
    "print(\"Confusion Matrix for the Naive Bayes Classifier\")\n",
    "confusion_matrix(y_test, pred_nb, labels=['1', '2', '3'])"
   ]
  },
  {
   "cell_type": "code",
   "execution_count": 36,
   "metadata": {},
   "outputs": [
    {
     "name": "stdout",
     "output_type": "stream",
     "text": [
      "Confusion matrix, without normalization\n",
      "[[962 234   3]\n",
      " [382 760   3]\n",
      " [ 10   0 146]]\n",
      "Normalized confusion matrix\n",
      "[[0.8  0.2  0.  ]\n",
      " [0.33 0.66 0.  ]\n",
      " [0.06 0.   0.94]]\n"
     ]
    },
    {
     "data": {
      "image/png": "[encoded data removed]",
      "text/plain": [
       "<Figure size 432x288 with 2 Axes>"
      ]
     },
     "metadata": {
      "needs_background": "light"
     },
     "output_type": "display_data"
    },
    {
     "data": {
      "image/png": "[encoded data removed]",
      "text/plain": [
       "<Figure size 432x288 with 2 Axes>"
      ]
     },
     "metadata": {
      "needs_background": "light"
     },
     "output_type": "display_data"
    }
   ],
   "source": [
    "np.set_printoptions(precision=2)\n",
    "from sklearn.metrics import plot_confusion_matrix\n",
    "\n",
    "# Plot non-normalized confusion matrix\n",
    "titles_options = [(\"Confusion matrix, without normalization\", None),\n",
    "                  (\"Normalized confusion matrix\", 'true')]\n",
    "class_names=[\"Warning\",\"Citation\",\"ESERO\"]\n",
    "for title, normalize in titles_options:\n",
    "    disp = plot_confusion_matrix(text_clf_nb_best, X_test, y_test,display_labels=class_names,\n",
    "                                 cmap=plt.cm.Blues,\n",
    "                                 normalize=normalize)\n",
    "    disp.ax_.set_title(title)\n",
    "\n",
    "    print(title)\n",
    "    print(disp.confusion_matrix)\n",
    "\n",
    "plt.show()"
   ]
  },
  {
   "cell_type": "markdown",
   "metadata": {},
   "source": [
    "__Validate SVM__"
   ]
  },
  {
   "cell_type": "code",
   "execution_count": 37,
   "metadata": {},
   "outputs": [],
   "source": [
    "#SVM validation\n",
    "\n",
    "#fit best SVM model\n",
    "text_clf_svm_best = Pipeline([('vect', CountVectorizer(tokenizer=text_clean,ngram_range=(1, 2))),('tfidf', TfidfTransformer()),('clf', SGDClassifier())])\n",
    "text_clf_svm_best=text_clf_svm_best.fit(X_train,y_train)"
   ]
  },
  {
   "cell_type": "code",
   "execution_count": 38,
   "metadata": {},
   "outputs": [],
   "source": [
    "#predict classes on test data\n",
    "pred_svm = text_clf_svm_best.predict(X_test)"
   ]
  },
  {
   "cell_type": "code",
   "execution_count": 39,
   "metadata": {},
   "outputs": [
    {
     "name": "stdout",
     "output_type": "stream",
     "text": [
      "Classification Report for the SVM Classifier\n",
      "              precision    recall  f1-score   support\n",
      "\n",
      "           1       0.69      0.87      0.77      1199\n",
      "           2       0.82      0.60      0.69      1145\n",
      "           3       0.99      0.96      0.97       156\n",
      "\n",
      "    accuracy                           0.75      2500\n",
      "   macro avg       0.83      0.81      0.81      2500\n",
      "weighted avg       0.77      0.75      0.75      2500\n",
      "\n"
     ]
    }
   ],
   "source": [
    "print(\"Classification Report for the SVM Classifier\")\n",
    "print(classification_report(y_test,pred_svm))"
   ]
  },
  {
   "cell_type": "code",
   "execution_count": 40,
   "metadata": {},
   "outputs": [
    {
     "name": "stdout",
     "output_type": "stream",
     "text": [
      "Confusion Matrix for the SVM Classifier\n"
     ]
    },
    {
     "data": {
      "text/plain": [
       "array([[1042,  156,    1],\n",
       "       [ 456,  689,    0],\n",
       "       [   7,    0,  149]])"
      ]
     },
     "execution_count": 40,
     "metadata": {},
     "output_type": "execute_result"
    }
   ],
   "source": [
    "print(\"Confusion Matrix for the SVM Classifier\")\n",
    "confusion_matrix(y_test, pred_svm, labels=['1', '2', '3'])"
   ]
  },
  {
   "cell_type": "code",
   "execution_count": 42,
   "metadata": {},
   "outputs": [
    {
     "name": "stdout",
     "output_type": "stream",
     "text": [
      "Confusion matrix, without normalization\n",
      "[[1042  156    1]\n",
      " [ 456  689    0]\n",
      " [   7    0  149]]\n",
      "Normalized confusion matrix\n",
      "[[8.69e-01 1.30e-01 8.34e-04]\n",
      " [3.98e-01 6.02e-01 0.00e+00]\n",
      " [4.49e-02 0.00e+00 9.55e-01]]\n"
     ]
    },
    {
     "data": {
      "image/png": "[encoded data removed]",
      "text/plain": [
       "<Figure size 432x288 with 2 Axes>"
      ]
     },
     "metadata": {
      "needs_background": "light"
     },
     "output_type": "display_data"
    },
    {
     "data": {
      "image/png": "[encoded data removed]",
      "text/plain": [
       "<Figure size 432x288 with 2 Axes>"
      ]
     },
     "metadata": {
      "needs_background": "light"
     },
     "output_type": "display_data"
    }
   ],
   "source": [
    "np.set_printoptions(precision=2)\n",
    "from sklearn.metrics import plot_confusion_matrix\n",
    "\n",
    "# Plot non-normalized confusion matrix\n",
    "titles_options = [(\"Confusion matrix, without normalization\", None),\n",
    "                  (\"Normalized confusion matrix\", 'true')]\n",
    "class_names=[\"Warning\",\"Citation\",\"ESERO\"]\n",
    "for title, normalize in titles_options:\n",
    "    disp = plot_confusion_matrix(text_clf_svm_best, X_test, y_test,display_labels=class_names,\n",
    "                                 cmap=plt.cm.Blues,\n",
    "                                 normalize=normalize)\n",
    "    disp.ax_.set_title(title)\n",
    "\n",
    "    print(title)\n",
    "    print(disp.confusion_matrix)\n",
    "\n",
    "plt.show()"
   ]
  },
  {
   "cell_type": "markdown",
   "metadata": {},
   "source": [
    "Both Naive Bayes and SVM have similar accuracy scores. But SVM has a slightly higher precision- it has a higher true positive rate.\n",
    "\n",
    "But in both the models we see that \"Citations\" have been falsely classified as \"Warnings\" in ~30% of the times. Further analysis and cleaning the \"Citations\" might improve the accuracy further."
   ]
  }
 ],
 "metadata": {
  "kernelspec": {
   "display_name": "Python 3",
   "language": "python",
   "name": "python3"
  },
  "language_info": {
   "codemirror_mode": {
    "name": "ipython",
    "version": 3
   },
   "file_extension": ".py",
   "mimetype": "text/x-python",
   "name": "python",
   "nbconvert_exporter": "python",
   "pygments_lexer": "ipython3",
   "version": "3.7.7"
  }
 },
 "nbformat": 4,
 "nbformat_minor": 2
}
